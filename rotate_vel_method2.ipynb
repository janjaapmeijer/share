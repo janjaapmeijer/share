{
 "cells": [
  {
   "cell_type": "code",
   "execution_count": 1,
   "id": "55345894-7254-41b3-9fd7-517607f737e9",
   "metadata": {},
   "outputs": [],
   "source": [
    "import cosima_cookbook as cc\n",
    "import numpy as np"
   ]
  },
  {
   "cell_type": "markdown",
   "id": "4141b474-760b-4bbb-b2f3-1f090fd19a70",
   "metadata": {},
   "source": [
    "## Importing the model outputs the chosen time period and domain"
   ]
  },
  {
   "cell_type": "code",
   "execution_count": 2,
   "id": "a11d61ac-7fe7-440e-a3d3-c5003a44efc0",
   "metadata": {},
   "outputs": [],
   "source": [
    "session = cc.database.create_session()\n",
    "expt01 = '01deg_jra55v140_iaf_cycle2'  # 01-deg and daily experiment \n",
    "yt_sel = slice(-60, -45)\n",
    "xt_sel = slice(144.5-360, 155.5-360)\n",
    "start_time, end_time = '1993-01-01', '2018-12-31'"
   ]
  },
  {
   "cell_type": "code",
   "execution_count": 3,
   "id": "28ff18a3-ca8a-49d1-b947-e03556c2284b",
   "metadata": {},
   "outputs": [],
   "source": [
    "var = 'u'\n",
    "u = cc.querying.getvar(expt01, var, session, frequency='1 monthly', start_time=start_time, end_time=end_time)\n",
    "u = u.sel(time=slice(start_time, end_time)).sel(yu_ocean=yt_sel, xu_ocean=xt_sel, st_ocean = slice(0,500))\n",
    "\n",
    "var = 'v'\n",
    "v = cc.querying.getvar(expt01, var, session, frequency='1 monthly', start_time=start_time, end_time=end_time)\n",
    "v = v.sel(time=slice(start_time, end_time)).sel(yu_ocean=yt_sel, xu_ocean=xt_sel, st_ocean = slice(0,500))"
   ]
  },
  {
   "cell_type": "code",
   "execution_count": 4,
   "id": "9feefe7a-970e-4c2e-bdf9-b0e370e59d43",
   "metadata": {},
   "outputs": [],
   "source": [
    "variable = 'temp'\n",
    "temp = cc.querying.getvar(expt01, variable, session, frequency = '1 monthly', start_time=start_time, end_time=end_time)\n",
    "temp = temp.sel(yt_ocean=yt_sel, xt_ocean=xt_sel, st_ocean = slice(0,500),\n",
    "                time=slice(start_time, end_time)) - 273.15 #the temperature of the model is in Kelvin"
   ]
  },
  {
   "cell_type": "markdown",
   "id": "462cda70-5e79-4072-9616-31321072f845",
   "metadata": {},
   "source": [
    "## We perform an 18month window average to extract the signal of the meander"
   ]
  },
  {
   "cell_type": "code",
   "execution_count": null,
   "id": "3356f89f-2de5-46d4-8075-e74d13dc97b3",
   "metadata": {},
   "outputs": [],
   "source": [
    "wdw       = 18\n",
    "temp_wdw  = temp.rolling(time = wdw, center = True).mean('time').compute()\n",
    "u_wdw     = u.rolling(time = wdw, center = True).mean('time').compute()\n",
    "v_wdw     = v.rolling(time = wdw, center = True).mean('time').compute()"
   ]
  },
  {
   "cell_type": "markdown",
   "id": "1a4dd5a9-dc54-4a73-b173-1882110f8d8e",
   "metadata": {},
   "source": [
    "### Let's evaluate the first period of the smoothed time series (i.e., wdw/2)"
   ]
  },
  {
   "cell_type": "code",
   "execution_count": null,
   "id": "469fa7c1-d825-4de5-8254-29da72321429",
   "metadata": {},
   "outputs": [],
   "source": [
    "temp_snap = temp_wdw[int(wdw/2)]\n",
    "u_snap = u_wdw[int(wdw/2)]\n",
    "v_snap = v_wdw[int(wdw/2)]"
   ]
  },
  {
   "cell_type": "code",
   "execution_count": null,
   "id": "f210702b-e6c4-4c1b-99d3-9c50920fe160",
   "metadata": {},
   "outputs": [],
   "source": [
    "## --> That is the variable that you use to find the coordinates of the front\n",
    "temp_PF   = temp_snap.interp(st_ocean = 282).compute()"
   ]
  },
  {
   "cell_type": "markdown",
   "id": "dcc1b31c-32b7-4db9-88ab-cdd109206c8b",
   "metadata": {},
   "source": [
    "## TBC\n",
    "\n",
    "--> Things to note: the isotherm that represents the PF is the 2.9$^\\circ$C at 282 m\n",
    "--> The model outputs are in T-cell coordinates (i.e., to convert the longitudes to the cartesin grid, you need to sum 360$^\\circ$) ----> Ln, Lt = temp.xt_ocean + 360, temp.yt_ocean"
   ]
  },
  {
   "cell_type": "code",
   "execution_count": null,
   "id": "0bc3f142-f7d1-49eb-bdc3-b419d5504314",
   "metadata": {},
   "outputs": [],
   "source": []
  }
 ],
 "metadata": {
  "kernelspec": {
   "display_name": "Python 3 (ipykernel)",
   "language": "python",
   "name": "python3"
  },
  "language_info": {
   "codemirror_mode": {
    "name": "ipython",
    "version": 3
   },
   "file_extension": ".py",
   "mimetype": "text/x-python",
   "name": "python",
   "nbconvert_exporter": "python",
   "pygments_lexer": "ipython3",
   "version": "3.9.15"
  }
 },
 "nbformat": 4,
 "nbformat_minor": 5
}
